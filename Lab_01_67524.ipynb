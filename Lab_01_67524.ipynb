{
  "nbformat": 4,
  "nbformat_minor": 0,
  "metadata": {
    "colab": {
      "provenance": [],
      "authorship_tag": "ABX9TyP8q7fAxdmaTNXN3OEX4UvW",
      "include_colab_link": true
    },
    "kernelspec": {
      "name": "python3",
      "display_name": "Python 3"
    },
    "language_info": {
      "name": "python"
    }
  },
  "cells": [
    {
      "cell_type": "markdown",
      "metadata": {
        "id": "view-in-github",
        "colab_type": "text"
      },
      "source": [
        "<a href=\"https://colab.research.google.com/github/jaleesraja/PF_AI_Fall24/blob/main/Lab_01_67524.ipynb\" target=\"_parent\"><img src=\"https://colab.research.google.com/assets/colab-badge.svg\" alt=\"Open In Colab\"/></a>"
      ]
    },
    {
      "cell_type": "code",
      "execution_count": 1,
      "metadata": {
        "colab": {
          "base_uri": "https://localhost:8080/"
        },
        "id": "310Zao5ot11w",
        "outputId": "e8b8cdad-516c-4fe8-a448-4785d709aea6"
      },
      "outputs": [
        {
          "output_type": "stream",
          "name": "stdout",
          "text": [
            "I love Pakistan\n",
            "Enter a number:4\n",
            "4\n",
            "4\n",
            "4\n",
            "4\n",
            "4\n",
            "4\n",
            "4\n",
            "4\n",
            "4\n",
            "4\n",
            "4\n"
          ]
        }
      ],
      "source": [
        "print(\"I love Pakistan\")\n",
        "#output\n",
        "x=input(\"Enter a number:\")\n",
        "print(x)\n",
        "#displayx10 times\n",
        "for i in range(10):\n",
        "    print(x)"
      ]
    },
    {
      "cell_type": "code",
      "source": [
        "def name():\n",
        "    x=input(\"Enter your name:\")\n",
        "    print(\"Your name is\",x)\n",
        "\n",
        "name()"
      ],
      "metadata": {
        "colab": {
          "base_uri": "https://localhost:8080/"
        },
        "id": "_NSWWkP2uD8b",
        "outputId": "1737a8ec-e080-4acd-a4e9-e12520a41333"
      },
      "execution_count": 2,
      "outputs": [
        {
          "output_type": "stream",
          "name": "stdout",
          "text": [
            "Enter your name:Rayyan\n",
            "Your name is Rayyan\n"
          ]
        }
      ]
    },
    {
      "cell_type": "code",
      "source": [
        "x=int(input(\"Enter a Number:\"))\n",
        "if x%2 == 0:\n",
        "    print(\"x is even\")\n",
        "else:\n",
        "    print(\"x is odd\")"
      ],
      "metadata": {
        "colab": {
          "base_uri": "https://localhost:8080/"
        },
        "id": "moV9TpUpuMQj",
        "outputId": "3b926ade-2a0b-4a6f-aea5-f5a154747552"
      },
      "execution_count": 3,
      "outputs": [
        {
          "output_type": "stream",
          "name": "stdout",
          "text": [
            "Enter a Number:6\n",
            "x is even\n"
          ]
        }
      ]
    },
    {
      "cell_type": "code",
      "source": [
        "def odd_even_checker(x):\n",
        "    if x%2 == 0:\n",
        "       print(\"x is even\")\n",
        "    else:\n",
        "       print(\"x is odd\")\n",
        "for i in range(10):\n",
        "    x=int(input(\"Enter a Number:\"))\n",
        "    odd_even_checker(x)"
      ],
      "metadata": {
        "colab": {
          "base_uri": "https://localhost:8080/"
        },
        "id": "8K8BXXW2uVy7",
        "outputId": "8456881e-5ff4-4da7-d4c8-488b86da73fe"
      },
      "execution_count": 4,
      "outputs": [
        {
          "output_type": "stream",
          "name": "stdout",
          "text": [
            "Enter a Number:1\n",
            "x is odd\n",
            "Enter a Number:2\n",
            "x is even\n",
            "Enter a Number:3\n",
            "x is odd\n",
            "Enter a Number:4\n",
            "x is even\n",
            "Enter a Number:5\n",
            "x is odd\n",
            "Enter a Number:6\n",
            "x is even\n",
            "Enter a Number:7\n",
            "x is odd\n",
            "Enter a Number:8\n",
            "x is even\n",
            "Enter a Number:9\n",
            "x is odd\n",
            "Enter a Number:10\n",
            "x is even\n"
          ]
        }
      ]
    },
    {
      "cell_type": "code",
      "source": [
        "def greater_numbers(x, y):\n",
        "    if x < y:\n",
        "        print(\"y is greater\")\n",
        "    else:\n",
        "        print(\"x is greater\")\n",
        "\n",
        "for i in range(2):\n",
        "    x = int(input(\"Enter first number (x): \"))\n",
        "    y = int(input(\"Enter second number (y): \"))\n",
        "    greater_numbers(x, y)"
      ],
      "metadata": {
        "colab": {
          "base_uri": "https://localhost:8080/"
        },
        "id": "xrFh6Mzqufvi",
        "outputId": "1cb0184c-ed1e-4123-df52-164b05a67d80"
      },
      "execution_count": 8,
      "outputs": [
        {
          "output_type": "stream",
          "name": "stdout",
          "text": [
            "Enter first number (x): 5\n",
            "Enter second number (y): 7\n",
            "y is greater\n",
            "Enter first number (x): 9\n",
            "Enter second number (y): 1\n",
            "x is greater\n"
          ]
        }
      ]
    }
  ]
}